{
 "cells": [
  {
   "cell_type": "code",
   "execution_count": 1,
   "id": "9ff174ce",
   "metadata": {},
   "outputs": [],
   "source": [
    "import numpy as np\n",
    "import pandas as pd\n",
    "import matplotlib.pyplot as plt\n",
    "from sklearn.preprocessing import MinMaxScaler\n",
    "from keras.models import Sequential\n",
    "from keras.layers import Dense, LSTM, Dropout"
   ]
  },
  {
   "cell_type": "code",
   "execution_count": 3,
   "id": "e6d7d2bd",
   "metadata": {},
   "outputs": [],
   "source": [
    "data = pd.read_csv('C:/Users/suraa/Downloads/WMT.csv')"
   ]
  },
  {
   "cell_type": "code",
   "execution_count": 4,
   "id": "af4f55b5",
   "metadata": {},
   "outputs": [
    {
     "name": "stdout",
     "output_type": "stream",
     "text": [
      "<class 'pandas.core.frame.DataFrame'>\n",
      "RangeIndex: 251 entries, 0 to 250\n",
      "Data columns (total 7 columns):\n",
      " #   Column     Non-Null Count  Dtype  \n",
      "---  ------     --------------  -----  \n",
      " 0   Date       251 non-null    object \n",
      " 1   Open       251 non-null    float64\n",
      " 2   High       251 non-null    float64\n",
      " 3   Low        251 non-null    float64\n",
      " 4   Close      251 non-null    float64\n",
      " 5   Adj Close  251 non-null    float64\n",
      " 6   Volume     251 non-null    int64  \n",
      "dtypes: float64(5), int64(1), object(1)\n",
      "memory usage: 13.9+ KB\n"
     ]
    }
   ],
   "source": [
    "data.info()"
   ]
  },
  {
   "cell_type": "code",
   "execution_count": 5,
   "id": "f4170aac",
   "metadata": {},
   "outputs": [],
   "source": [
    "data[\"Close\"]=pd.to_numeric(data.Close,errors='coerce')\n",
    "data = data.dropna()\n",
    "trainData = data.iloc[:,4:5].values"
   ]
  },
  {
   "cell_type": "code",
   "execution_count": 6,
   "id": "3cd9c9fe",
   "metadata": {},
   "outputs": [
    {
     "name": "stdout",
     "output_type": "stream",
     "text": [
      "<class 'pandas.core.frame.DataFrame'>\n",
      "RangeIndex: 251 entries, 0 to 250\n",
      "Data columns (total 7 columns):\n",
      " #   Column     Non-Null Count  Dtype  \n",
      "---  ------     --------------  -----  \n",
      " 0   Date       251 non-null    object \n",
      " 1   Open       251 non-null    float64\n",
      " 2   High       251 non-null    float64\n",
      " 3   Low        251 non-null    float64\n",
      " 4   Close      251 non-null    float64\n",
      " 5   Adj Close  251 non-null    float64\n",
      " 6   Volume     251 non-null    int64  \n",
      "dtypes: float64(5), int64(1), object(1)\n",
      "memory usage: 13.9+ KB\n"
     ]
    }
   ],
   "source": [
    "data.info()"
   ]
  },
  {
   "cell_type": "code",
   "execution_count": 7,
   "id": "ca6afc93",
   "metadata": {},
   "outputs": [
    {
     "data": {
      "text/plain": [
       "(251, 1)"
      ]
     },
     "execution_count": 7,
     "metadata": {},
     "output_type": "execute_result"
    }
   ],
   "source": [
    "sc = MinMaxScaler(feature_range=(0,1))\n",
    "trainData = sc.fit_transform(trainData)\n",
    "trainData.shape"
   ]
  },
  {
   "cell_type": "code",
   "execution_count": 9,
   "id": "4f7b960b",
   "metadata": {},
   "outputs": [],
   "source": [
    "X_train = []\n",
    "Y_train = []\n",
    "\n",
    "for i in range(60, len(trainData)):\n",
    "    X_train.append(trainData[i-60:i, 0])\n",
    "    Y_train.append(trainData[i, 0])\n",
    "\n",
    "X_train, Y_train = np.array(X_train), np.array(Y_train)"
   ]
  },
  {
   "cell_type": "code",
   "execution_count": 10,
   "id": "dcadef9b",
   "metadata": {},
   "outputs": [
    {
     "data": {
      "text/plain": [
       "(191, 60, 1)"
      ]
     },
     "execution_count": 10,
     "metadata": {},
     "output_type": "execute_result"
    }
   ],
   "source": [
    "X_train = np.reshape(X_train,(X_train.shape[0],X_train.shape[1],1))#adding the batch size\n",
    "X_train.shape"
   ]
  },
  {
   "cell_type": "code",
   "execution_count": 11,
   "id": "b29f6661",
   "metadata": {},
   "outputs": [],
   "source": [
    "model =Sequential()\n",
    "model.add(LSTM(units=100, return_sequences = True, input_shape =(X_train.shape[1],1)))\n",
    "model.add(Dropout(0.2))\n",
    "\n",
    "model.add(LSTM(units=100, return_sequences = True))\n",
    "model.add(Dropout(0.2))\n",
    "\n",
    "model.add(LSTM(units=100, return_sequences = True))\n",
    "model.add(Dropout(0.2))\n",
    "\n",
    "model.add(LSTM(units=100, return_sequences = False))\n",
    "model.add(Dropout(0.2))\n",
    "\n",
    "model.add(Dense(units =1))\n",
    "model.compile(optimizer='adam',loss=\"mean_squared_error\")"
   ]
  },
  {
   "cell_type": "code",
   "execution_count": 12,
   "id": "e3a24339",
   "metadata": {},
   "outputs": [
    {
     "name": "stdout",
     "output_type": "stream",
     "text": [
      "Epoch 1/20\n",
      "6/6 - 7s - loss: 0.1716 - 7s/epoch - 1s/step\n",
      "Epoch 2/20\n",
      "6/6 - 1s - loss: 0.0510 - 876ms/epoch - 146ms/step\n",
      "Epoch 3/20\n",
      "6/6 - 1s - loss: 0.0329 - 722ms/epoch - 120ms/step\n",
      "Epoch 4/20\n",
      "6/6 - 1s - loss: 0.0275 - 749ms/epoch - 125ms/step\n",
      "Epoch 5/20\n",
      "6/6 - 1s - loss: 0.0220 - 849ms/epoch - 142ms/step\n",
      "Epoch 6/20\n",
      "6/6 - 1s - loss: 0.0219 - 747ms/epoch - 125ms/step\n",
      "Epoch 7/20\n",
      "6/6 - 1s - loss: 0.0216 - 773ms/epoch - 129ms/step\n",
      "Epoch 8/20\n",
      "6/6 - 1s - loss: 0.0183 - 826ms/epoch - 138ms/step\n",
      "Epoch 9/20\n",
      "6/6 - 1s - loss: 0.0187 - 735ms/epoch - 122ms/step\n",
      "Epoch 10/20\n",
      "6/6 - 1s - loss: 0.0177 - 912ms/epoch - 152ms/step\n",
      "Epoch 11/20\n",
      "6/6 - 1s - loss: 0.0178 - 802ms/epoch - 134ms/step\n",
      "Epoch 12/20\n",
      "6/6 - 1s - loss: 0.0162 - 841ms/epoch - 140ms/step\n",
      "Epoch 13/20\n",
      "6/6 - 1s - loss: 0.0181 - 835ms/epoch - 139ms/step\n",
      "Epoch 14/20\n",
      "6/6 - 1s - loss: 0.0165 - 878ms/epoch - 146ms/step\n",
      "Epoch 15/20\n",
      "6/6 - 1s - loss: 0.0179 - 875ms/epoch - 146ms/step\n",
      "Epoch 16/20\n",
      "6/6 - 1s - loss: 0.0172 - 844ms/epoch - 141ms/step\n",
      "Epoch 17/20\n",
      "6/6 - 1s - loss: 0.0147 - 926ms/epoch - 154ms/step\n",
      "Epoch 18/20\n",
      "6/6 - 1s - loss: 0.0160 - 811ms/epoch - 135ms/step\n",
      "Epoch 19/20\n",
      "6/6 - 1s - loss: 0.0196 - 867ms/epoch - 144ms/step\n",
      "Epoch 20/20\n",
      "6/6 - 1s - loss: 0.0185 - 896ms/epoch - 149ms/step\n"
     ]
    }
   ],
   "source": [
    "hist = model.fit(X_train, Y_train, epochs = 20, batch_size = 32, verbose = 2)\n"
   ]
  },
  {
   "cell_type": "code",
   "execution_count": 13,
   "id": "5d5f6b00",
   "metadata": {},
   "outputs": [
    {
     "data": {
      "image/png": "[encoded data removed]",
      "text/plain": [
       "<Figure size 640x480 with 1 Axes>"
      ]
     },
     "metadata": {},
     "output_type": "display_data"
    }
   ],
   "source": [
    "plt.plot(hist.history['loss'])\n",
    "plt.title('Training model loss')\n",
    "plt.ylabel('loss')\n",
    "plt.xlabel('epoch')\n",
    "plt.legend(['train'], loc='upper left')\n",
    "plt.show()"
   ]
  },
  {
   "cell_type": "code",
   "execution_count": 15,
   "id": "0e152b0d",
   "metadata": {},
   "outputs": [
    {
     "data": {
      "text/plain": [
       "(191, 60, 1)"
      ]
     },
     "execution_count": 15,
     "metadata": {},
     "output_type": "execute_result"
    }
   ],
   "source": [
    "from sklearn.preprocessing import MinMaxScaler\n",
    "scaler = MinMaxScaler()\n",
    "scaler.fit(trainData)\n",
    "inputClosing_scaled = scaler.transform(inputClosing)\n",
    "testData = pd.read_csv('C:/Users/suraa/Downloads/WMT.csv')\n",
    "testData[\"Close\"]=pd.to_numeric(testData.Close,errors='coerce')\n",
    "testData = testData.dropna()\n",
    "testData = testData.iloc[:,4:5]\n",
    "y_test = testData.iloc[60:,0:].values\n",
    "#input array for the model\n",
    "inputClosing = testData.iloc[:,0:].values\n",
    "inputClosing_scaled.shape\n",
    "X_test = []\n",
    "length = len(testData)\n",
    "timestep = 60\n",
    "for i in range(timestep,length):\n",
    "    X_test.append(inputClosing_scaled[i-timestep:i,0])\n",
    "X_test = np.array(X_test)\n",
    "X_test = np.reshape(X_test,(X_test.shape[0],X_test.shape[1],1))\n",
    "X_test.shape"
   ]
  },
  {
   "cell_type": "code",
   "execution_count": 19,
   "id": "db64cee2",
   "metadata": {},
   "outputs": [
    {
     "name": "stdout",
     "output_type": "stream",
     "text": [
      "6/6 [==============================] - 0s 28ms/step\n"
     ]
    },
    {
     "data": {
      "text/plain": [
       "array([[2.5233326],\n",
       "       [2.5236428],\n",
       "       [2.5239782],\n",
       "       [2.524317 ],\n",
       "       [2.524579 ],\n",
       "       [2.5245793],\n",
       "       [2.5243728],\n",
       "       [2.5241125],\n",
       "       [2.5238225],\n",
       "       [2.5235498],\n",
       "       [2.5232291],\n",
       "       [2.5228436],\n",
       "       [2.5225036],\n",
       "       [2.522219 ],\n",
       "       [2.5219305],\n",
       "       [2.521557 ],\n",
       "       [2.5212443],\n",
       "       [2.5209   ],\n",
       "       [2.5205576],\n",
       "       [2.5202045],\n",
       "       [2.5198116],\n",
       "       [2.5193858],\n",
       "       [2.5189912],\n",
       "       [2.5185268],\n",
       "       [2.5180423],\n",
       "       [2.517541 ],\n",
       "       [2.5170057],\n",
       "       [2.5163987],\n",
       "       [2.5158827],\n",
       "       [2.515343 ],\n",
       "       [2.514913 ],\n",
       "       [2.5144887],\n",
       "       [2.514076 ],\n",
       "       [2.513594 ],\n",
       "       [2.5130742],\n",
       "       [2.512583 ],\n",
       "       [2.512165 ],\n",
       "       [2.5118482],\n",
       "       [2.5115664],\n",
       "       [2.511279 ],\n",
       "       [2.5110278],\n",
       "       [2.5107925],\n",
       "       [2.5105302],\n",
       "       [2.5102828],\n",
       "       [2.510103 ],\n",
       "       [2.5099843],\n",
       "       [2.5099125],\n",
       "       [2.5098763],\n",
       "       [2.5098999],\n",
       "       [2.5099576],\n",
       "       [2.5099947],\n",
       "       [2.50995  ],\n",
       "       [2.509599 ],\n",
       "       [2.5094326],\n",
       "       [2.5093873],\n",
       "       [2.509398 ],\n",
       "       [2.509371 ],\n",
       "       [2.5092642],\n",
       "       [2.5089738],\n",
       "       [2.5084789],\n",
       "       [2.5079715],\n",
       "       [2.5074575],\n",
       "       [2.5069444],\n",
       "       [2.506426 ],\n",
       "       [2.5059462],\n",
       "       [2.5055645],\n",
       "       [2.5052555],\n",
       "       [2.5051188],\n",
       "       [2.505001 ],\n",
       "       [2.5048513],\n",
       "       [2.504591 ],\n",
       "       [2.5043213],\n",
       "       [2.5040362],\n",
       "       [2.503742 ],\n",
       "       [2.5034003],\n",
       "       [2.5028837],\n",
       "       [2.502352 ],\n",
       "       [2.5017574],\n",
       "       [2.5011325],\n",
       "       [2.5005105],\n",
       "       [2.4997866],\n",
       "       [2.4990385],\n",
       "       [2.4983988],\n",
       "       [2.4977686],\n",
       "       [2.4971368],\n",
       "       [2.4964964],\n",
       "       [2.495754 ],\n",
       "       [2.4949956],\n",
       "       [2.4941802],\n",
       "       [2.4934156],\n",
       "       [2.4927132],\n",
       "       [2.4920084],\n",
       "       [2.4913394],\n",
       "       [2.4905756],\n",
       "       [2.4897118],\n",
       "       [2.488943 ],\n",
       "       [2.4882152],\n",
       "       [2.48757  ],\n",
       "       [2.486862 ],\n",
       "       [2.4860804],\n",
       "       [2.485447 ],\n",
       "       [2.4848855],\n",
       "       [2.484241 ],\n",
       "       [2.4835021],\n",
       "       [2.4826121],\n",
       "       [2.4817986],\n",
       "       [2.481141 ],\n",
       "       [2.4803753],\n",
       "       [2.479601 ],\n",
       "       [2.4787223],\n",
       "       [2.4779036],\n",
       "       [2.4772055],\n",
       "       [2.476475 ],\n",
       "       [2.475789 ],\n",
       "       [2.4753   ],\n",
       "       [2.4750059],\n",
       "       [2.4748156],\n",
       "       [2.4746993],\n",
       "       [2.474603 ],\n",
       "       [2.4745886],\n",
       "       [2.474561 ],\n",
       "       [2.474477 ],\n",
       "       [2.4743564],\n",
       "       [2.474235 ],\n",
       "       [2.4741268],\n",
       "       [2.4740589],\n",
       "       [2.473944 ],\n",
       "       [2.4737408],\n",
       "       [2.4736845],\n",
       "       [2.4736125],\n",
       "       [2.473536 ],\n",
       "       [2.4738955],\n",
       "       [2.4742668],\n",
       "       [2.4746299],\n",
       "       [2.4750426],\n",
       "       [2.4754808],\n",
       "       [2.475924 ],\n",
       "       [2.4763527],\n",
       "       [2.47678  ],\n",
       "       [2.4772208],\n",
       "       [2.4776492],\n",
       "       [2.4781017],\n",
       "       [2.4785936],\n",
       "       [2.479088 ],\n",
       "       [2.4795377],\n",
       "       [2.4799438],\n",
       "       [2.4803276],\n",
       "       [2.480675 ],\n",
       "       [2.480965 ],\n",
       "       [2.481381 ],\n",
       "       [2.4818037],\n",
       "       [2.4822097],\n",
       "       [2.4825604],\n",
       "       [2.4828146],\n",
       "       [2.4830995],\n",
       "       [2.4834487],\n",
       "       [2.4837937],\n",
       "       [2.4840524],\n",
       "       [2.4843075],\n",
       "       [2.4845169],\n",
       "       [2.4846313],\n",
       "       [2.4847372],\n",
       "       [2.4848197],\n",
       "       [2.4849424],\n",
       "       [2.4850366],\n",
       "       [2.4851143],\n",
       "       [2.4852283],\n",
       "       [2.4852455],\n",
       "       [2.485233 ],\n",
       "       [2.485195 ],\n",
       "       [2.485066 ],\n",
       "       [2.4848936],\n",
       "       [2.4846103],\n",
       "       [2.484145 ],\n",
       "       [2.4836266],\n",
       "       [2.483208 ],\n",
       "       [2.4828734],\n",
       "       [2.4825435],\n",
       "       [2.4821818],\n",
       "       [2.4818203],\n",
       "       [2.4814606],\n",
       "       [2.4810617],\n",
       "       [2.4807303],\n",
       "       [2.4804003],\n",
       "       [2.479996 ],\n",
       "       [2.4794915],\n",
       "       [2.4789383],\n",
       "       [2.4783885],\n",
       "       [2.4778407],\n",
       "       [2.4773908],\n",
       "       [2.477059 ]], dtype=float32)"
      ]
     },
     "execution_count": 19,
     "metadata": {},
     "output_type": "execute_result"
    }
   ],
   "source": [
    "y_pred = model.predict(X_test)\n",
    "y_pred"
   ]
  },
  {
   "cell_type": "code",
   "execution_count": 17,
   "id": "c8242a1b",
   "metadata": {},
   "outputs": [],
   "source": [
    "predicted_price = sc.inverse_transform(y_pred)"
   ]
  },
  {
   "cell_type": "code",
   "execution_count": 20,
   "id": "b540bed2",
   "metadata": {},
   "outputs": [
    {
     "data": {
      "image/png": "[encoded data removed]",
      "text/plain": [
       "<Figure size 640x480 with 1 Axes>"
      ]
     },
     "metadata": {},
     "output_type": "display_data"
    }
   ],
   "source": [
    "plt.plot(y_test, color = 'red', label = 'Actual Stock Price')\n",
    "plt.plot(predicted_price, color = 'green', label = 'Predicted Stock Price')\n",
    "plt.title('Google Stock Price Prediction')\n",
    "plt.xlabel('Time')\n",
    "plt.ylabel('Stock Price')\n",
    "plt.legend()\n",
    "plt.show()"
   ]
  },
  {
   "cell_type": "code",
   "execution_count": null,
   "id": "354d9afe",
   "metadata": {},
   "outputs": [],
   "source": []
  }
 ],
 "metadata": {
  "kernelspec": {
   "display_name": "Python 3 (ipykernel)",
   "language": "python",
   "name": "python3"
  },
  "language_info": {
   "codemirror_mode": {
    "name": "ipython",
    "version": 3
   },
   "file_extension": ".py",
   "mimetype": "text/x-python",
   "name": "python",
   "nbconvert_exporter": "python",
   "pygments_lexer": "ipython3",
   "version": "3.10.9"
  }
 },
 "nbformat": 4,
 "nbformat_minor": 5
}
